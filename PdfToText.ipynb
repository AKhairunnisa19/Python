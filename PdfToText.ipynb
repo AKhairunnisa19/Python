{
 "cells": [
  {
   "cell_type": "code",
   "execution_count": 193,
   "metadata": {},
   "outputs": [],
   "source": [
    "import PyPDF2\n",
    "import pandas as pd\n",
    "import re"
   ]
  },
  {
   "cell_type": "code",
   "execution_count": 194,
   "metadata": {},
   "outputs": [],
   "source": [
    "def extract_text_from_pdf(pdf_path):\n",
    "    with open(pdf_path, 'rb') as file:\n",
    "        reader = PyPDF2.PdfReader(file)\n",
    "        num_pages = len(reader.pages)\n",
    "        text = \"\"\n",
    "        for page_num in range(num_pages):\n",
    "            page = reader.pages[page_num]\n",
    "            text += page.extract_text()\n",
    "    return text"
   ]
  },
  {
   "cell_type": "code",
   "execution_count": 195,
   "metadata": {},
   "outputs": [],
   "source": [
    "# Provide the path to your PDF file\n",
    "pdf_path = r'C:\\Users\\AKhairunnisa\\Dev-Python\\Part C - General Terms and Conditions.pdf'\n",
    "\n",
    "# Call the function to extract text from the PDF\n",
    "extracted_text = extract_text_from_pdf(pdf_path)\n"
   ]
  },
  {
   "cell_type": "code",
   "execution_count": 196,
   "metadata": {},
   "outputs": [],
   "source": [
    "# Split the extracted text into rows and columns\n",
    "rows = extracted_text.split('\\n')\n",
    "table_data = [row.split('\\t') for row in rows]"
   ]
  },
  {
   "cell_type": "code",
   "execution_count": 197,
   "metadata": {},
   "outputs": [],
   "source": [
    "# Convert the table data to a DataFrame\n",
    "df = pd.DataFrame({'ExtractedText':table_data[0:]})"
   ]
  },
  {
   "cell_type": "code",
   "execution_count": 198,
   "metadata": {},
   "outputs": [],
   "source": [
    "# Replace some strings\n",
    "df['ExtractedText'] = df['ExtractedText'].astype(str)\n",
    "df['ExtractedText'] = df['ExtractedText'].str.replace('[', '')\n",
    "df['ExtractedText'] = df['ExtractedText'].str.replace(']', '')\n",
    "df['ExtractedText'] = df['ExtractedText'].str.replace(chr(39), '')"
   ]
  },
  {
   "cell_type": "code",
   "execution_count": 199,
   "metadata": {},
   "outputs": [],
   "source": [
    "df['Length'] = df['ExtractedText'].apply(len)\n",
    "\n",
    "if (df['Length'] == 1).any():\n",
    "    df.loc[df['Length'] == 1, 'Category'] = 'Blank'\n",
    "else:\n",
    "    df['Category'] = 'Not Blank'\n",
    "\n"
   ]
  },
  {
   "cell_type": "code",
   "execution_count": 200,
   "metadata": {},
   "outputs": [],
   "source": [
    "# Check if extracted test contains \"Page\"\n",
    "df['ContainsPage'] = df['ExtractedText'].str.contains('Page')\n",
    "\n",
    "if (df['ContainsPage'] == True).any():\n",
    "    df.loc[df['ContainsPage'], 'PageNo'] = df.loc[df['ContainsPage'], 'ExtractedText'].str[5:7]\n",
    "else:\n",
    "    df['PageNo'] = None\n",
    "# Fill down previous values in 'PageNo'\n",
    "df['PageNo'] = df['PageNo'].fillna(method='ffill')\n"
   ]
  },
  {
   "cell_type": "code",
   "execution_count": 201,
   "metadata": {},
   "outputs": [],
   "source": [
    "df = df.fillna('0')\n",
    "daftar_isi = df.loc[df['Category'] != 'Blank']"
   ]
  },
  {
   "cell_type": "code",
   "execution_count": 202,
   "metadata": {},
   "outputs": [],
   "source": [
    "df['PageNo'] = df['PageNo'].astype(int)\n",
    "daftar_isi = df.loc[df['PageNo'] < 9]"
   ]
  },
  {
   "cell_type": "code",
   "execution_count": 203,
   "metadata": {},
   "outputs": [
    {
     "name": "stderr",
     "output_type": "stream",
     "text": [
      "C:\\Users\\AKhairunnisa\\AppData\\Local\\Temp\\ipykernel_21692\\2828521014.py:5: SettingWithCopyWarning: \n",
      "A value is trying to be set on a copy of a slice from a DataFrame.\n",
      "Try using .loc[row_indexer,col_indexer] = value instead\n",
      "\n",
      "See the caveats in the documentation: https://pandas.pydata.org/pandas-docs/stable/user_guide/indexing.html#returning-a-view-versus-a-copy\n",
      "  daftar_isi['SubSectionNo'] = daftar_isi['ExtractedText'].str.extract(pattern, expand=False)\n",
      "C:\\Users\\AKhairunnisa\\AppData\\Local\\Temp\\ipykernel_21692\\2828521014.py:8: SettingWithCopyWarning: \n",
      "A value is trying to be set on a copy of a slice from a DataFrame\n",
      "\n",
      "See the caveats in the documentation: https://pandas.pydata.org/pandas-docs/stable/user_guide/indexing.html#returning-a-view-versus-a-copy\n",
      "  daftar_isi['SubSectionNo'].fillna('', inplace=True)\n"
     ]
    }
   ],
   "source": [
    "# Regex pattern for \"number.number\" with named capture group\n",
    "pattern = r\"(?P<SubSectionNo>\\d+\\.\\d+)\"\n",
    "\n",
    "# Create a new column 'ExtractedValues' with extracted patterns\n",
    "daftar_isi['SubSectionNo'] = daftar_isi['ExtractedText'].str.extract(pattern, expand=False)\n",
    "\n",
    "# Replace non-matching values with blank\n",
    "daftar_isi['SubSectionNo'].fillna('', inplace=True)"
   ]
  },
  {
   "cell_type": "code",
   "execution_count": 204,
   "metadata": {},
   "outputs": [
    {
     "name": "stderr",
     "output_type": "stream",
     "text": [
      "C:\\Users\\AKhairunnisa\\AppData\\Local\\Temp\\ipykernel_21692\\3356370221.py:5: SettingWithCopyWarning: \n",
      "A value is trying to be set on a copy of a slice from a DataFrame.\n",
      "Try using .loc[row_indexer,col_indexer] = value instead\n",
      "\n",
      "See the caveats in the documentation: https://pandas.pydata.org/pandas-docs/stable/user_guide/indexing.html#returning-a-view-versus-a-copy\n",
      "  daftar_isi['SectionNo'] = daftar_isi['ExtractedText'].str.extract(f'({pattern})', expand=False).fillna('')\n"
     ]
    }
   ],
   "source": [
    "# Regex pattern for \"number.number\" with named capture group\n",
    "pattern = r'\\d+\\.\\s'\n",
    "\n",
    "# Create a new column 'NewColumn' to extract the pattern if matched, otherwise leave it blank\n",
    "daftar_isi['SectionNo'] = daftar_isi['ExtractedText'].str.extract(f'({pattern})', expand=False).fillna('')"
   ]
  },
  {
   "cell_type": "code",
   "execution_count": 205,
   "metadata": {},
   "outputs": [
    {
     "name": "stderr",
     "output_type": "stream",
     "text": [
      "C:\\Users\\AKhairunnisa\\AppData\\Local\\Temp\\ipykernel_21692\\671591702.py:2: SettingWithCopyWarning: \n",
      "A value is trying to be set on a copy of a slice from a DataFrame.\n",
      "Try using .loc[row_indexer,col_indexer] = value instead\n",
      "\n",
      "See the caveats in the documentation: https://pandas.pydata.org/pandas-docs/stable/user_guide/indexing.html#returning-a-view-versus-a-copy\n",
      "  daftar_isi['SectionName'] = daftar_isi.apply(lambda row: row['ExtractedText'].split(row['SubSectionNo'])[1] if row['SubSectionNo'] != '' and row['SubSectionNo'] in row['ExtractedText'] else row['SubSectionNo'], axis=1)\n"
     ]
    }
   ],
   "source": [
    "# Extract the value based on delimiter from 'Column1' using value from 'DelimiterColumn'\n",
    "daftar_isi['SectionName'] = daftar_isi.apply(lambda row: row['ExtractedText'].split(row['SubSectionNo'])[1] if row['SubSectionNo'] != '' and row['SubSectionNo'] in row['ExtractedText'] else row['SubSectionNo'], axis=1)\n"
   ]
  },
  {
   "cell_type": "code",
   "execution_count": 206,
   "metadata": {},
   "outputs": [
    {
     "name": "stderr",
     "output_type": "stream",
     "text": [
      "C:\\Users\\AKhairunnisa\\AppData\\Local\\Temp\\ipykernel_21692\\726570132.py:1: SettingWithCopyWarning: \n",
      "A value is trying to be set on a copy of a slice from a DataFrame.\n",
      "Try using .loc[row_indexer,col_indexer] = value instead\n",
      "\n",
      "See the caveats in the documentation: https://pandas.pydata.org/pandas-docs/stable/user_guide/indexing.html#returning-a-view-versus-a-copy\n",
      "  daftar_isi['SectionName'] = daftar_isi.apply(lambda row: row['ExtractedText'].split(row['SectionNo'])[1] if row['SectionNo'] != '' and row['SectionNo'] in row['ExtractedText'] else row['SectionName'], axis=1)\n"
     ]
    }
   ],
   "source": [
    "daftar_isi['SectionName'] = daftar_isi.apply(lambda row: row['ExtractedText'].split(row['SectionNo'])[1] if row['SectionNo'] != '' and row['SectionNo'] in row['ExtractedText'] else row['SectionName'], axis=1)\n"
   ]
  }
 ],
 "metadata": {
  "kernelspec": {
   "display_name": ".venv",
   "language": "python",
   "name": "python3"
  },
  "language_info": {
   "codemirror_mode": {
    "name": "ipython",
    "version": 3
   },
   "file_extension": ".py",
   "mimetype": "text/x-python",
   "name": "python",
   "nbconvert_exporter": "python",
   "pygments_lexer": "ipython3",
   "version": "3.10.11"
  },
  "orig_nbformat": 4
 },
 "nbformat": 4,
 "nbformat_minor": 2
}
